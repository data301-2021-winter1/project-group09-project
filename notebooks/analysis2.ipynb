{
 "cells": [
  {
   "cell_type": "markdown",
   "metadata": {},
   "source": [
<<<<<<< HEAD
    "# Your Name Here"
   ]
=======
    "Avaneendra Sathivada"
   ],
   "metadata": {}
>>>>>>> b44aa77a348c9309c3d4926eda7be8d5699f84db
  },
  {
   "cell_type": "markdown",
   "metadata": {},
   "source": [
<<<<<<< HEAD
    "## Research question/interests\r\n",
    "\r\n",
    "Briefly describe your research question or interests here."
   ]
=======
    "As an econ student i like to how the investments work especially for new startups i would like to address how the startups did in india with investment level with thius project"
   ],
   "metadata": {}
>>>>>>> b44aa77a348c9309c3d4926eda7be8d5699f84db
  }
 ],
 "metadata": {
  "kernelspec": {
   "display_name": "Python 3",
   "language": "python",
   "name": "python3"
  },
  "language_info": {
   "codemirror_mode": {
    "name": "ipython",
    "version": 3
   },
   "file_extension": ".py",
   "mimetype": "text/x-python",
   "name": "python",
   "nbconvert_exporter": "python",
   "pygments_lexer": "ipython3",
   "version": "3.9.5"
  }
 },
 "nbformat": 4,
 "nbformat_minor": 4
}
