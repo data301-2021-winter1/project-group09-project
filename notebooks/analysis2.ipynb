{
 "cells": [
  {
   "cell_type": "markdown",
   "source": [
    "Avaneendra Sathivada"
   ],
   "metadata": {}
  },
  {
   "cell_type": "markdown",
   "source": [
    "As an econ student i like to how the investments work especially for new startups i would like to address how the startups did in india with investment level with thius project"
   ],
   "metadata": {}
  }
 ],
 "metadata": {
  "orig_nbformat": 4,
  "language_info": {
   "name": "plaintext"
  }
 },
 "nbformat": 4,
 "nbformat_minor": 2
}