{
 "cells": [
  {
   "cell_type": "markdown",
   "id": "1c6a6798-c030-42e4-826d-6faa8c41e944",
   "metadata": {},
   "source": [
    "## 1. Load Data\n",
    "\n",
    "1. I loaded the data using the pd.read_csv function.\n",
    "\n",
    "2. Then, I found out the size of the dataset, using the shape function.\n",
    "\n",
    "3. To clean the data, I also found out the exact names of the columns using the columns function.\n",
    "\n",
    "## 2. Clean Data\n",
    "\n",
    "1. I cleaned the data by, first, removing the unwanted columns which was the Serial Number, City Location, Remarks and Date dd/mm/yyyy. \n",
    "\n",
    "2. The dataset also had a lot of null values and information missing, which rendered some of the data useless. So I removed those entries only, using a drop function.\n",
    "\n",
    "3. After that, I started filtering the data, so that it is more useful to answer my question. Since my question wants to see which investment type provided the most funding in the Finance industry, I filtered the data down to show only records in the \"Finance\" Industry Vertical.\n",
    "\n",
    "4. The dataset also had Invetment Types which were the same but named differently, so I changed that which helped visualize the data better\n",
    "\n",
    "\n",
    "\n",
    "## 3. Process Data\n",
    "\n",
    "1. The dataset we chose was quite processed and had more than enough data to answer my question and any other questions that go along with it, thus, I did not process the data much. However, as I analyze it more, I will have to process it so I'm still adding it to the Analysis pipeline.\n",
    "\n",
    "## 4. Wrangle Data\n",
    "\n",
    "1. For this data, I just found that the \"Amount in USD\" column was supposed to be integers, however, it was a string and so could not be used for further analysis. So to make it numerical and more readable I first got rid of the commas and then set the column type to numerical. "
   ]
  },
  {
   "cell_type": "code",
   "execution_count": null,
   "id": "525e9cef-eb95-445f-826c-7fbd5d9818ac",
   "metadata": {},
   "outputs": [],
   "source": []
  }
 ],
 "metadata": {
  "kernelspec": {
   "display_name": "Python 3",
   "language": "python",
   "name": "python3"
  },
  "language_info": {
   "codemirror_mode": {
    "name": "ipython",
    "version": 3
   },
   "file_extension": ".py",
   "mimetype": "text/x-python",
   "name": "python",
   "nbconvert_exporter": "python",
   "pygments_lexer": "ipython3",
   "version": "3.9.5"
  }
 },
 "nbformat": 4,
 "nbformat_minor": 5
}
