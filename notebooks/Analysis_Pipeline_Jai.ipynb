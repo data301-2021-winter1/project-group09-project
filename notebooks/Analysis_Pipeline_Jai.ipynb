{
 "cells": [
  {
   "cell_type": "markdown",
   "id": "1c6a6798-c030-42e4-826d-6faa8c41e944",
   "metadata": {},
   "source": [
    "## 1. Load Data\n",
    "\n",
    "1. I loaded the data using the pd.read_csv function.\n",
    "\n",
    "## 2. Clean Data\n",
    "\n",
    "1. I cleaned the data by, first, removing the unwanted columns which was the Serial Number, Remarks, Sub Vertical and Investor's Name . \n",
    "\n",
    "2. Then I renamed the columns the columns \"City Location\" to \"City\" and \"InvestmentnType\" to \"Investment Type\" for ease\n",
    "\n",
    "3. The dataset also had a lot of null values and information missing, which rendered some of the data useless. So I removed those entries only, using a drop function.\n",
    "\n",
    "4. I then had to get rid of the commas in Amount of USD since it was in Indian currency formatting and also change the type of the column to an integers since it was in string before, which caused me to not do any calculations with it.\n",
    "\n",
    "5. The dataset had cities that was not in India so i dropped them.\n",
    "\n",
    "6. I then renamed all the cities that were misspelt or had another city attached to it. I put values with two city names into the category which was named after the first city, again for ease in analysis.\n",
    "\n",
    "7. This dataset had a lot of strings that made it hard to analyse, for example, in the Industry Vertical Column there was Finance, finance, fintech, Fin-Tech etc. They were all supposed to be in the finance industry but was being read as different industries. Therefore I used the replace function to categorize all of them into one single category and did this for all the Industries that I saw from the .unique() function. \n",
    "\n",
    "8. I then did the same for the Investment Type column as well.\n",
    "\n",
    "9. After that, I found the Date DD/MM/YYY Column to be and integer as well, but since I wanted it to be a DateTime object, I created a new column called \"Date\" and converted the Date DD/MM/YYY column and moved the dates, in the correct format and DateTime object into that column.\n",
    "\n",
    "10. Since the Date DD/MM/YYY Column was still there, I dropped it and also drop the null values in the new data frame.\n",
    "\n",
    "\n",
    "## 3. Process Data\n",
    "\n",
    "1. To answer my research questions, I firstly had to create a few new data frames. Firstly, to answer the question \"How many startups exist in each City ?\" I simply created a data frame with the City and a count of how many times the City name was in the data frame. I also renamed the column names for ease of creating graphs.\n",
    "\n",
    "2. To answer the question \"What is the most popular Industry Vertical in India to start a startup in?\" I did the same functions as I did for the previous questions.\n",
    "\n",
    "3. From the previous question I was able to see which Industries were the most popular, and to answer the question of when entrants entered the market, I created another Data Frame which only included the top 5 industries. I did this using a filter function. \n",
    "\n",
    "4. For the next question, \"Which City has the most funding in terms of Amount of USD\" I used the data frame with the top 5 most popular industries to find the max, mean and min and then used that data to interpret the grpah I made from the data.\n",
    "\n",
    "5. For the last question \"Which Investment Type brings in the most money\" I created another dataframe from the top 5 industries dataframe that calculated the sum for each investment type, which I then used to create a graph to show which investment type brought in the most amount of funding."
   ]
  },
  {
   "cell_type": "code",
   "execution_count": null,
   "id": "525e9cef-eb95-445f-826c-7fbd5d9818ac",
   "metadata": {},
   "outputs": [],
   "source": []
  }
 ],
 "metadata": {
  "kernelspec": {
   "display_name": "Python 3",
   "language": "python",
   "name": "python3"
  },
  "language_info": {
   "codemirror_mode": {
    "name": "ipython",
    "version": 3
   },
   "file_extension": ".py",
   "mimetype": "text/x-python",
   "name": "python",
   "nbconvert_exporter": "python",
   "pygments_lexer": "ipython3",
   "version": "3.9.5"
  }
 },
 "nbformat": 4,
 "nbformat_minor": 5
}
