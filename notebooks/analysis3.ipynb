{
 "cells": [
  {
   "cell_type": "code",
   "execution_count": null,
   "source": [],
   "outputs": [],
   "metadata": {}
  },
  {
   "cell_type": "markdown",
   "source": [
    "Olivia Bliss"
   ],
   "metadata": {}
  },
  {
   "cell_type": "markdown",
   "source": [
    "## Research question/interests\n",
    "our reasearch interests me because i am interested in seeing the differences in amounts of money in the varying locations.\n",
    "Briefly describe your research question or interests here."
   ],
   "metadata": {}
  }
 ],
 "metadata": {
  "orig_nbformat": 4,
  "language_info": {
   "name": "plaintext"
  }
 },
 "nbformat": 4,
 "nbformat_minor": 2
}